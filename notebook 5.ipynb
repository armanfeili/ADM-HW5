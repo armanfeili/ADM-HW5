{
 "cells": [
  {
   "cell_type": "markdown",
   "metadata": {},
   "source": [
    "# Q1. Data"
   ]
  },
  {
   "cell_type": "code",
   "execution_count": 191,
   "metadata": {},
   "outputs": [],
   "source": [
    "import pandas as pd\n",
    "import numpy as np\n",
    "import ijson\n",
    "from tqdm.notebook import tqdm\n",
    "import networkx as nx\n",
    "import community  # Louvain method\n",
    "import matplotlib.pyplot as plt\n",
    "import ast\n",
    "import itertools"
   ]
  },
  {
   "cell_type": "markdown",
   "metadata": {},
   "source": [
    "converting the Json file to CSV and then dataframe keeping only the most important information for memory issues.\\\n",
    "font: https://www.kaggle.com/code/devintheai/citation-network-eda\n",
    "We adapted the code found in this link to extract all the information, including the autors' information."
   ]
  },
  {
   "cell_type": "code",
   "execution_count": 40,
   "metadata": {},
   "outputs": [
    {
     "data": {
      "text/plain": [
       "'\\nPAPERS = []\\n\\nwith open(\"./dblp.v12.json\", \"rb\") as f:\\n    for i, element in tqdm(enumerate(ijson.items(f, \"item\"))):\\n        paper = {}\\n        paper[\\'id\\'] = element[\\'id\\']\\n        paper[\\'title\\'] = element[\\'title\\']\\n\\n        authors = element.get(\\'authors\\')\\n        if authors:\\n            paper[\\'num_authors\\'] = len(authors)\\n            # joining all authors in a list\\n            paper[\\'authors\\'] = [auth for auth in authors]\\n        \\n        year = element.get(\\'year\\')\\n        if year:\\n            paper[\\'year\\']= year\\n        else:\\n            paper[\\'year\\']= np.nan\\n        \\n        n_citation= element.get(\\'n_citation\\')\\n        if n_citation:\\n             paper[\\'n_citation\\']= element[\\'n_citation\\']\\n        else:\\n            paper[\\'n_citation\\']= 0\\n        \\n        doc_type= element.get(\\'doc_type\\') \\n        if doc_type:\\n            paper[\\'doc_type\\']= element[\\'doc_type\\']\\n        else:\\n            paper[\\'doc_type\\']= np.nan      \\n\\n        references= element.get(\\'references\\')\\n        if references:\\n            paper[\\'reference_count\\']= len(references)\\n            # joining all refs id in a `;` seperated string  \\n            paper[\\'references\\']= \\';\\'.join([str(int(r)) for r in references])\\n        else:\\n            paper[\\'reference_count\\']= np.nan \\n            paper[\\'references\\']= np.nan\\n        \\n        doi = element.get(\\'doi\\')\\n        if doi:\\n            paper[\\'doi\\']= f\"https://doi.org/{element[\\'doi\\']}\"\\n        else:\\n            paper[\\'doi\\']= np.nan               \\n        \\n        \\n        PAPERS.append(paper)\\n'"
      ]
     },
     "execution_count": 40,
     "metadata": {},
     "output_type": "execute_result"
    }
   ],
   "source": [
    "\"\"\"\n",
    "PAPERS = []\n",
    "\n",
    "with open(\"./dblp.v12.json\", \"rb\") as f:\n",
    "    for i, element in tqdm(enumerate(ijson.items(f, \"item\"))):\n",
    "        paper = {}\n",
    "        paper['id'] = element['id']\n",
    "        paper['title'] = element['title']\n",
    "\n",
    "        authors = element.get('authors')\n",
    "        if authors:\n",
    "            paper['num_authors'] = len(authors)\n",
    "            # joining all authors in a list\n",
    "            paper['authors'] = [auth for auth in authors]\n",
    "        \n",
    "        year = element.get('year')\n",
    "        if year:\n",
    "            paper['year']= year\n",
    "        else:\n",
    "            paper['year']= np.nan\n",
    "        \n",
    "        n_citation= element.get('n_citation')\n",
    "        if n_citation:\n",
    "             paper['n_citation']= element['n_citation']\n",
    "        else:\n",
    "            paper['n_citation']= 0\n",
    "        \n",
    "        doc_type= element.get('doc_type') \n",
    "        if doc_type:\n",
    "            paper['doc_type']= element['doc_type']\n",
    "        else:\n",
    "            paper['doc_type']= np.nan      \n",
    "\n",
    "        references= element.get('references')\n",
    "        if references:\n",
    "            paper['reference_count']= len(references)\n",
    "            # joining all refs id in a `;` seperated string  \n",
    "            paper['references']= ';'.join([str(int(r)) for r in references])\n",
    "        else:\n",
    "            paper['reference_count']= np.nan \n",
    "            paper['references']= np.nan\n",
    "        \n",
    "        doi = element.get('doi')\n",
    "        if doi:\n",
    "            paper['doi']= f\"https://doi.org/{element['doi']}\"\n",
    "        else:\n",
    "            paper['doi']= np.nan               \n",
    "        \n",
    "        \n",
    "        PAPERS.append(paper)\n",
    "\"\"\""
   ]
  },
  {
   "cell_type": "markdown",
   "metadata": {},
   "source": [
    "Now we'll convert the information extracted in a dataframe and save them in a csv file, called \"citations_network.csv\""
   ]
  },
  {
   "cell_type": "code",
   "execution_count": 41,
   "metadata": {},
   "outputs": [
    {
     "data": {
      "text/plain": [
       "'\\ndata = pd.DataFrame(PAPERS)\\ndata.head()\\ndata.to_csv(\"citations_network.csv\", index=False)\\n'"
      ]
     },
     "execution_count": 41,
     "metadata": {},
     "output_type": "execute_result"
    }
   ],
   "source": [
    "\"\"\"\n",
    "data = pd.DataFrame(PAPERS)\n",
    "data.head()\n",
    "data.to_csv(\"citations_network.csv\", index=False)\n",
    "\"\"\""
   ]
  },
  {
   "cell_type": "markdown",
   "metadata": {},
   "source": [
    "our new dataset to create our subgraph for our investigation. Considering only the most connected componet of the graph."
   ]
  },
  {
   "cell_type": "code",
   "execution_count": 42,
   "metadata": {},
   "outputs": [
    {
     "name": "stderr",
     "output_type": "stream",
     "text": [
      "/var/folders/d6/sz5pbmks2gs12gkp2yzr1gl00000gn/T/ipykernel_60325/2258685613.py:1: DtypeWarning: Columns (0,2,5,7) have mixed types. Specify dtype option on import or set low_memory=False.\n",
      "  df = pd.read_csv('./citations_network.csv')\n"
     ]
    }
   ],
   "source": [
    "df = pd.read_csv('./citations_network.csv')"
   ]
  },
  {
   "cell_type": "code",
   "execution_count": 44,
   "metadata": {},
   "outputs": [
    {
     "data": {
      "text/html": [
       "<div>\n",
       "<style scoped>\n",
       "    .dataframe tbody tr th:only-of-type {\n",
       "        vertical-align: middle;\n",
       "    }\n",
       "\n",
       "    .dataframe tbody tr th {\n",
       "        vertical-align: top;\n",
       "    }\n",
       "\n",
       "    .dataframe thead th {\n",
       "        text-align: right;\n",
       "    }\n",
       "</style>\n",
       "<table border=\"1\" class=\"dataframe\">\n",
       "  <thead>\n",
       "    <tr style=\"text-align: right;\">\n",
       "      <th></th>\n",
       "      <th>id</th>\n",
       "      <th>title</th>\n",
       "      <th>num_authors</th>\n",
       "      <th>authors</th>\n",
       "      <th>year</th>\n",
       "      <th>n_citation</th>\n",
       "      <th>doc_type</th>\n",
       "      <th>reference_count</th>\n",
       "      <th>references</th>\n",
       "      <th>doi</th>\n",
       "    </tr>\n",
       "  </thead>\n",
       "  <tbody>\n",
       "    <tr>\n",
       "      <th>0</th>\n",
       "      <td>1091</td>\n",
       "      <td>Preliminary Design of a Network Protocol Learn...</td>\n",
       "      <td>8.0</td>\n",
       "      <td>[{'name': 'Makoto Satoh', 'org': 'Shinshu Univ...</td>\n",
       "      <td>2013.0</td>\n",
       "      <td>1</td>\n",
       "      <td>Conference</td>\n",
       "      <td>2.0</td>\n",
       "      <td>2005687710;2018037215</td>\n",
       "      <td>https://doi.org/10.1007/978-3-642-39476-8_19</td>\n",
       "    </tr>\n",
       "    <tr>\n",
       "      <th>1</th>\n",
       "      <td>1388</td>\n",
       "      <td>Further Results on Independence in Direct-Prod...</td>\n",
       "      <td>1.0</td>\n",
       "      <td>[{'name': 'Pranava K. Jha', 'id': 2718958994}]</td>\n",
       "      <td>2000.0</td>\n",
       "      <td>1</td>\n",
       "      <td>Journal</td>\n",
       "      <td>NaN</td>\n",
       "      <td>NaN</td>\n",
       "      <td>NaN</td>\n",
       "    </tr>\n",
       "    <tr>\n",
       "      <th>2</th>\n",
       "      <td>1674</td>\n",
       "      <td>A methodology for the physically accurate visu...</td>\n",
       "      <td>2.0</td>\n",
       "      <td>[{'name': 'G. Beale', 'org': 'Archaeological C...</td>\n",
       "      <td>2011.0</td>\n",
       "      <td>1</td>\n",
       "      <td>Conference</td>\n",
       "      <td>15.0</td>\n",
       "      <td>1535888970;1992876689;1993710814;2035653341;20...</td>\n",
       "      <td>https://doi.org/10.2312/VAST/VAST11/137-144</td>\n",
       "    </tr>\n",
       "    <tr>\n",
       "      <th>3</th>\n",
       "      <td>1688</td>\n",
       "      <td>Comparison of GARCH, Neural Network and Suppor...</td>\n",
       "      <td>4.0</td>\n",
       "      <td>[{'name': 'Altaf Hossain', 'org': 'Department ...</td>\n",
       "      <td>2009.0</td>\n",
       "      <td>6</td>\n",
       "      <td>Conference</td>\n",
       "      <td>3.0</td>\n",
       "      <td>1560724230;1986968751;2156909104</td>\n",
       "      <td>https://doi.org/10.1007/978-3-642-11164-8_97</td>\n",
       "    </tr>\n",
       "    <tr>\n",
       "      <th>4</th>\n",
       "      <td>5411</td>\n",
       "      <td>COMPARING GNG3D AND QUADRIC ERROR METRICS METH...</td>\n",
       "      <td>4.0</td>\n",
       "      <td>[{'name': 'Rafael Álvarez', 'id': 2125293936},...</td>\n",
       "      <td>2009.0</td>\n",
       "      <td>0</td>\n",
       "      <td>Conference</td>\n",
       "      <td>NaN</td>\n",
       "      <td>NaN</td>\n",
       "      <td>NaN</td>\n",
       "    </tr>\n",
       "  </tbody>\n",
       "</table>\n",
       "</div>"
      ],
      "text/plain": [
       "     id                                              title num_authors  \\\n",
       "0  1091  Preliminary Design of a Network Protocol Learn...         8.0   \n",
       "1  1388  Further Results on Independence in Direct-Prod...         1.0   \n",
       "2  1674  A methodology for the physically accurate visu...         2.0   \n",
       "3  1688  Comparison of GARCH, Neural Network and Suppor...         4.0   \n",
       "4  5411  COMPARING GNG3D AND QUADRIC ERROR METRICS METH...         4.0   \n",
       "\n",
       "                                             authors    year n_citation  \\\n",
       "0  [{'name': 'Makoto Satoh', 'org': 'Shinshu Univ...  2013.0          1   \n",
       "1     [{'name': 'Pranava K. Jha', 'id': 2718958994}]  2000.0          1   \n",
       "2  [{'name': 'G. Beale', 'org': 'Archaeological C...  2011.0          1   \n",
       "3  [{'name': 'Altaf Hossain', 'org': 'Department ...  2009.0          6   \n",
       "4  [{'name': 'Rafael Álvarez', 'id': 2125293936},...  2009.0          0   \n",
       "\n",
       "     doc_type reference_count  \\\n",
       "0  Conference             2.0   \n",
       "1     Journal             NaN   \n",
       "2  Conference            15.0   \n",
       "3  Conference             3.0   \n",
       "4  Conference             NaN   \n",
       "\n",
       "                                          references  \\\n",
       "0                              2005687710;2018037215   \n",
       "1                                                NaN   \n",
       "2  1535888970;1992876689;1993710814;2035653341;20...   \n",
       "3                   1560724230;1986968751;2156909104   \n",
       "4                                                NaN   \n",
       "\n",
       "                                            doi  \n",
       "0  https://doi.org/10.1007/978-3-642-39476-8_19  \n",
       "1                                           NaN  \n",
       "2   https://doi.org/10.2312/VAST/VAST11/137-144  \n",
       "3  https://doi.org/10.1007/978-3-642-11164-8_97  \n",
       "4                                           NaN  "
      ]
     },
     "execution_count": 44,
     "metadata": {},
     "output_type": "execute_result"
    }
   ],
   "source": [
    "df.head()"
   ]
  },
  {
   "cell_type": "code",
   "execution_count": 46,
   "metadata": {},
   "outputs": [
    {
     "data": {
      "text/plain": [
       "(4894402, 10)"
      ]
     },
     "execution_count": 46,
     "metadata": {},
     "output_type": "execute_result"
    }
   ],
   "source": [
    "df.shape"
   ]
  },
  {
   "cell_type": "markdown",
   "metadata": {},
   "source": [
    "## Data pre-processing\n",
    "1. identify the top **10,000** papers with the highest number of citations\n",
    "   \n",
    "We just sorted the entire dataset in descending order according to the number of citation of each paper, and kept the first 10,000 rows.\n"
   ]
  },
  {
   "cell_type": "code",
   "execution_count": 50,
   "metadata": {},
   "outputs": [],
   "source": [
    "# Convert 'n_citation' column to numeric type if it contains mixed data types\n",
    "df['n_citation'] = pd.to_numeric(df['n_citation'], errors='coerce')\n",
    "\n",
    "# Sort the DataFrame by 'n_citation' column in descending order\n",
    "df_sorted = df.sort_values(by='n_citation', ascending=False)\n",
    "\n",
    "# Take the top 10000 rows after sorting and reset the index\n",
    "df_s = df_sorted.head(10000).reset_index(drop=True)"
   ]
  },
  {
   "cell_type": "code",
   "execution_count": 48,
   "metadata": {},
   "outputs": [],
   "source": [
    "# converting the authors' information from string to list\n",
    "df_s['authors'] = df_s['authors'].apply(lambda row: ast.literal_eval(row))"
   ]
  },
  {
   "cell_type": "code",
   "execution_count": 52,
   "metadata": {},
   "outputs": [
    {
     "data": {
      "text/html": [
       "<div>\n",
       "<style scoped>\n",
       "    .dataframe tbody tr th:only-of-type {\n",
       "        vertical-align: middle;\n",
       "    }\n",
       "\n",
       "    .dataframe tbody tr th {\n",
       "        vertical-align: top;\n",
       "    }\n",
       "\n",
       "    .dataframe thead th {\n",
       "        text-align: right;\n",
       "    }\n",
       "</style>\n",
       "<table border=\"1\" class=\"dataframe\">\n",
       "  <thead>\n",
       "    <tr style=\"text-align: right;\">\n",
       "      <th></th>\n",
       "      <th>id</th>\n",
       "      <th>title</th>\n",
       "      <th>num_authors</th>\n",
       "      <th>authors</th>\n",
       "      <th>year</th>\n",
       "      <th>n_citation</th>\n",
       "      <th>doc_type</th>\n",
       "      <th>reference_count</th>\n",
       "      <th>references</th>\n",
       "      <th>doi</th>\n",
       "    </tr>\n",
       "  </thead>\n",
       "  <tbody>\n",
       "    <tr>\n",
       "      <th>0</th>\n",
       "      <td>2041404167</td>\n",
       "      <td>The Mathematical Theory of Communication</td>\n",
       "      <td>1.0</td>\n",
       "      <td>[{'name': 'C. E. Shannon', 'org': 'External Or...</td>\n",
       "      <td>1949.0</td>\n",
       "      <td>48327.0</td>\n",
       "      <td>Book</td>\n",
       "      <td>NaN</td>\n",
       "      <td>NaN</td>\n",
       "      <td>NaN</td>\n",
       "    </tr>\n",
       "    <tr>\n",
       "      <th>1</th>\n",
       "      <td>1639032689</td>\n",
       "      <td>Genetic algorithms in search, optimization, an...</td>\n",
       "      <td>1.0</td>\n",
       "      <td>[{'name': 'David E. Goldberg', 'id': 2102678951}]</td>\n",
       "      <td>1989.0</td>\n",
       "      <td>44175.0</td>\n",
       "      <td>Book</td>\n",
       "      <td>NaN</td>\n",
       "      <td>NaN</td>\n",
       "      <td>NaN</td>\n",
       "    </tr>\n",
       "    <tr>\n",
       "      <th>2</th>\n",
       "      <td>2912565176</td>\n",
       "      <td>Fuzzy sets</td>\n",
       "      <td>1.0</td>\n",
       "      <td>[{'name': 'Lotfi A. Zadeh', 'id': 2252586558}]</td>\n",
       "      <td>1996.0</td>\n",
       "      <td>42437.0</td>\n",
       "      <td>NaN</td>\n",
       "      <td>NaN</td>\n",
       "      <td>NaN</td>\n",
       "      <td>NaN</td>\n",
       "    </tr>\n",
       "    <tr>\n",
       "      <th>3</th>\n",
       "      <td>2151103935</td>\n",
       "      <td>Distinctive Image Features from Scale-Invarian...</td>\n",
       "      <td>1.0</td>\n",
       "      <td>[{'name': 'David G. Lowe', 'org': 'Computer Sc...</td>\n",
       "      <td>2004.0</td>\n",
       "      <td>35541.0</td>\n",
       "      <td>Journal</td>\n",
       "      <td>33.0</td>\n",
       "      <td>19720318;1541642243;1560959218;1676552347;1681...</td>\n",
       "      <td>https://doi.org/10.1023/B:VISI.0000029664.9961...</td>\n",
       "    </tr>\n",
       "    <tr>\n",
       "      <th>4</th>\n",
       "      <td>2911964244</td>\n",
       "      <td>Random Forests</td>\n",
       "      <td>1.0</td>\n",
       "      <td>[{'name': 'Leo Breiman', 'org': 'Statistics De...</td>\n",
       "      <td>2001.0</td>\n",
       "      <td>34741.0</td>\n",
       "      <td>NaN</td>\n",
       "      <td>11.0</td>\n",
       "      <td>1507255258;1580948147;1605688901;1975846642;20...</td>\n",
       "      <td>https://doi.org/10.1023/A:1010933404324</td>\n",
       "    </tr>\n",
       "  </tbody>\n",
       "</table>\n",
       "</div>"
      ],
      "text/plain": [
       "           id                                              title num_authors  \\\n",
       "0  2041404167           The Mathematical Theory of Communication         1.0   \n",
       "1  1639032689  Genetic algorithms in search, optimization, an...         1.0   \n",
       "2  2912565176                                         Fuzzy sets         1.0   \n",
       "3  2151103935  Distinctive Image Features from Scale-Invarian...         1.0   \n",
       "4  2911964244                                     Random Forests         1.0   \n",
       "\n",
       "                                             authors    year  n_citation  \\\n",
       "0  [{'name': 'C. E. Shannon', 'org': 'External Or...  1949.0     48327.0   \n",
       "1  [{'name': 'David E. Goldberg', 'id': 2102678951}]  1989.0     44175.0   \n",
       "2     [{'name': 'Lotfi A. Zadeh', 'id': 2252586558}]  1996.0     42437.0   \n",
       "3  [{'name': 'David G. Lowe', 'org': 'Computer Sc...  2004.0     35541.0   \n",
       "4  [{'name': 'Leo Breiman', 'org': 'Statistics De...  2001.0     34741.0   \n",
       "\n",
       "  doc_type reference_count                                         references  \\\n",
       "0     Book             NaN                                                NaN   \n",
       "1     Book             NaN                                                NaN   \n",
       "2      NaN             NaN                                                NaN   \n",
       "3  Journal            33.0  19720318;1541642243;1560959218;1676552347;1681...   \n",
       "4      NaN            11.0  1507255258;1580948147;1605688901;1975846642;20...   \n",
       "\n",
       "                                                 doi  \n",
       "0                                                NaN  \n",
       "1                                                NaN  \n",
       "2                                                NaN  \n",
       "3  https://doi.org/10.1023/B:VISI.0000029664.9961...  \n",
       "4            https://doi.org/10.1023/A:1010933404324  "
      ]
     },
     "execution_count": 52,
     "metadata": {},
     "output_type": "execute_result"
    }
   ],
   "source": [
    "df_s.head()"
   ]
  },
  {
   "cell_type": "markdown",
   "metadata": {},
   "source": [
    "### Citation graph\n",
    "- Representation of the paper's *citation relationships*, where each node is a paper and the edge between two nodes is present only if the starting node cites the second node.\n",
    "- Unweighted\n",
    "- Directed"
   ]
  },
  {
   "cell_type": "markdown",
   "metadata": {},
   "source": [
    "2. The **nodes** of the graph"
   ]
  },
  {
   "cell_type": "code",
   "execution_count": 53,
   "metadata": {},
   "outputs": [
    {
     "name": "stdout",
     "output_type": "stream",
     "text": [
      "number of nodes in the Citation Graph: 10000\n"
     ]
    }
   ],
   "source": [
    "# the nodes of the graph will be all the unique rows that are present in the dataset\n",
    "\n",
    "# creating the directed graph\n",
    "cit_G = nx.DiGraph(name = 'Citation Graph')\n",
    "\n",
    "# adding the nodes and the attributes (the columns of the dataset)\n",
    "for i, pap in df_s.iterrows():\n",
    "    node = pap['id']\n",
    "    attributes = {}\n",
    "    for el in list(df_s.columns)[1:]:\n",
    "        attributes[el] = pap[el]\n",
    "    cit_G.add_node(node, **attributes)\n",
    "\n",
    "print(f'number of nodes in the Citation Graph: {len(cit_G.nodes())}')"
   ]
  },
  {
   "cell_type": "markdown",
   "metadata": {},
   "source": [
    "3. The **edges** of the graph\n",
    "\n",
    "The edges are defined by simply connecting each edge with all the paper's ids that specific paper cites; those can be found in the feature *references*.\\\n",
    "Those ids have been stored in a string separated by the \";\", so what we'll do is to create a dictionary that is structured in the following way:\n",
    "```python\n",
    "result_dict = {node_A : [node_B, node_c...], node_B : [node_i, ... ]}\n",
    "```\n",
    "where the key is the starting node and its value is a list of all the reachable nodes from it."
   ]
  },
  {
   "cell_type": "code",
   "execution_count": 26,
   "metadata": {},
   "outputs": [],
   "source": [
    "# the edges are all the papers' ids in the 'references' column\n",
    "def citation_dict(row, d={}):\n",
    "    if pd.notnull(row['references']):\n",
    "        d[row['id']] = [int(cit) for cit in row['references'].split(';')]\n",
    "    return d\n",
    "\n",
    "# apply the function to each row in the DataFrame to save the citation's relationship in a dictionary\n",
    "result_dict = {} # {node_A : [node_B, node_c...], node_B : [node_i, ... ]}\n",
    "for idx, row in df_s.iterrows():\n",
    "    result_dict = citation_dict(row, result_dict)"
   ]
  },
  {
   "cell_type": "markdown",
   "metadata": {},
   "source": [
    "Now we'll use the dictionary ```result_dict``` to create the directed edges in the graph"
   ]
  },
  {
   "cell_type": "code",
   "execution_count": 27,
   "metadata": {},
   "outputs": [],
   "source": [
    "for start in result_dict.keys():\n",
    "    for end in result_dict[start]:\n",
    "        cit_G.add_edge(start, end)"
   ]
  },
  {
   "cell_type": "markdown",
   "metadata": {},
   "source": [
    "If we're interested in a rapresentatin of a portion of the graph (a subgraph of about 20 nodes, for the sake of a clearer view)"
   ]
  },
  {
   "cell_type": "code",
   "execution_count": 61,
   "metadata": {},
   "outputs": [
    {
     "data": {
      "image/png": "[encoded data removed]",
      "text/plain": [
       "<Figure size 800x800 with 1 Axes>"
      ]
     },
     "metadata": {},
     "output_type": "display_data"
    }
   ],
   "source": [
    "# creating a subgraph of ten nodes\n",
    "subgraph = cit_G.subgraph(list(cit_G.nodes())[:20])\n",
    "position = nx.spring_layout(subgraph)\n",
    "plt.figure(figsize=(8,8))\n",
    "nx.draw(subgraph, with_labels=True, pos= position)\n",
    "nx.draw_networkx_edges(subgraph, pos=position)\n",
    "plt.title('Representation of a portion of the citation graph')\n",
    "plt.show()"
   ]
  },
  {
   "cell_type": "markdown",
   "metadata": {},
   "source": [
    "### Collaboration graph\n",
    "- Represents the *collaborations of the paper's authors*, where each node is an author and the undirected edge between two nodes represents the fact that those two authors have collaborated in a research paper. \n",
    "- Weighted: the weight will be the the number of research papers the couple of authors have worked on together.\n",
    "- Undirected"
   ]
  },
  {
   "cell_type": "markdown",
   "metadata": {},
   "source": [
    "2. The **nodes** of the graph\n",
    "3. The **edges** of the graph: undirected and weighted"
   ]
  },
  {
   "cell_type": "code",
   "execution_count": 29,
   "metadata": {},
   "outputs": [],
   "source": [
    "collab_G = nx.Graph(name = 'Collaboration Graph') "
   ]
  },
  {
   "cell_type": "code",
   "execution_count": 30,
   "metadata": {},
   "outputs": [
    {
     "data": {
      "application/vnd.jupyter.widget-view+json": {
       "model_id": "b055d8378bea47319dba43b95a8e7014",
       "version_major": 2,
       "version_minor": 0
      },
      "text/plain": [
       "  0%|          | 0/10000 [00:00<?, ?it/s]"
      ]
     },
     "metadata": {},
     "output_type": "display_data"
    },
    {
     "name": "stdout",
     "output_type": "stream",
     "text": [
      "number of nodes in the Collaboration Graph: 21232\n",
      "number of edges in the Collaboration Graph: 136463\n"
     ]
    }
   ],
   "source": [
    "tqdm.pandas()\n",
    "\n",
    "# dictionary to count the collaborations between each author's couple \n",
    "author_collaborations = {}\n",
    "for authors_list in df_s['authors']:\n",
    "    author_ids = [author['id'] for author in authors_list]  # extract the author's id for each paper\n",
    "    author_combinations = itertools.combinations(author_ids, 2) # find all the possible combinations of the authors for the current paper\n",
    "    \n",
    "    for pair in author_combinations: # keep the count of the collaborations for each author's couple\n",
    "        pair = tuple(sorted(pair))  # sort the ids to keep coherence in the couple\n",
    "        if pair not in author_collaborations.keys():\n",
    "            author_collaborations[pair] = 1\n",
    "        else:\n",
    "            author_collaborations[pair] += 1\n",
    "\n",
    "# now create the graph with the author's couple of edges, networkX will automatically create the nodes if not present already\n",
    "\n",
    "for authors, num_collab in author_collaborations.items():\n",
    "    author1, author2 = authors\n",
    "    collab_G.add_edge(author1, author2, weight=num_collab) # create the graph with the weighted edges: the number of times each author worked with the other\n",
    "\n",
    "# now we have to add all the authors that have never collaborated with anyone else  \n",
    "def apply_record(G, data):\n",
    "  authors_list = []\n",
    "  for author in data['authors']:\n",
    "    authors_list.append(author['id'])\n",
    "    G.add_node(author['id'], name=author['name'])\n",
    "    if 'org' in author:\n",
    "      G.nodes()[author['id']]['org'] = author['org']\n",
    "\n",
    "df_s.progress_apply(lambda row: apply_record(collab_G, row), axis=1)\n",
    "\n",
    "print(f'number of nodes in the Collaboration Graph: {len(collab_G.nodes())}')\n",
    "print(f'number of edges in the Collaboration Graph: {len(collab_G.edges())}')"
   ]
  },
  {
   "cell_type": "code",
   "execution_count": 63,
   "metadata": {},
   "outputs": [
    {
     "data": {
      "image/png": "[encoded data removed]",
      "text/plain": [
       "<Figure size 1000x800 with 1 Axes>"
      ]
     },
     "metadata": {},
     "output_type": "display_data"
    }
   ],
   "source": [
    "# creating a subgraph of 20 nodes\n",
    "subgraph = collab_G.subgraph(list(collab_G.nodes())[:20])\n",
    "position = nx.spring_layout(subgraph)\n",
    "plt.figure(figsize=(10,8))\n",
    "nx.draw(subgraph, with_labels=True, pos= position)\n",
    "nx.draw_networkx_edges(subgraph, pos=position)\n",
    "plt.title('Representation of a portion of the citation graph')\n",
    "plt.show()"
   ]
  },
  {
   "cell_type": "markdown",
   "metadata": {},
   "source": [
    "As a final step, we can save the graphs in a GraphML file"
   ]
  },
  {
   "cell_type": "code",
   "execution_count": 64,
   "metadata": {},
   "outputs": [],
   "source": [
    "nx.write_graphml(collab_G, \"Collaboration_Graph.graphml\")\n",
    "\n",
    "# in order to save the citation graph, we have to remove the author attribute, because is a list and is not supported by GraphML\n",
    "for node in cit_G.nodes():\n",
    "    if 'authors' in cit_G.nodes[node]:\n",
    "        del cit_G.nodes[node]['authors']\n",
    "nx.write_graphml(cit_G, \"Citation_Graph.graphml\")"
   ]
  },
  {
   "cell_type": "markdown",
   "metadata": {},
   "source": [
    "# 2. Controlling system"
   ]
  },
  {
   "cell_type": "markdown",
   "metadata": {},
   "source": [
    "## Functionality 1 - Graph's features"
   ]
  },
  {
   "cell_type": "code",
   "execution_count": 68,
   "metadata": {},
   "outputs": [],
   "source": [
    "def read_graphs():\n",
    "    citation_graph = nx.read_graphml('./Citation_Graph.graphml')\n",
    "    collaboration_graph = nx.read_graphml('./Collaboration_Graph.graphml')\n",
    "    return citation_graph, collaboration_graph\n",
    "\n",
    "# Read graphs\n",
    "citation_graph, collaboration_graph = read_graphs()"
   ]
  },
  {
   "cell_type": "markdown",
   "metadata": {},
   "source": [
    "A density of 0 means that the number of edges in the graph is close to the minimum number of edges needed for a graph of that size. It implies the graph is relatively sparse, with fewer connections between nodes compared to the maximum possible connections.\n",
    "\n",
    "For some types of networks (e.g., social networks, citation networks), sparsity might be natural. For instance, not every node (person, paper, etc.) is connected to every other node."
   ]
  },
  {
   "cell_type": "code",
   "execution_count": 99,
   "metadata": {},
   "outputs": [],
   "source": [
    "def graph_features(graph, graph_name):\n",
    "    print(graph_name, \"graph :\")\n",
    "\n",
    "    # number of nodes and edges:\n",
    "    number_of_nodes = graph.number_of_nodes()\n",
    "    number_of_edges = graph.number_of_edges()\n",
    "    print(\"Number of Nodes:\", number_of_nodes)\n",
    "    print(\"Number of Edges:\", number_of_edges)\n",
    "    \n",
    "    # Calculate the density of the graph\n",
    "    density = nx.density(graph)\n",
    "    print(\"Density: \", density)\n",
    "\n",
    "    # Degree histogram returns a list of counts where the index is the degree\n",
    "    degree_distribution = nx.degree_histogram(graph)\n",
    "    print(\"Graph degree distribution: \", degree_distribution)\n",
    "\n",
    "    # Calculate the average degree of the graph\n",
    "    avg_degree = sum(dict(graph.degree()).values()) / len(graph)\n",
    "    print(\"Average degree of the graph:\", avg_degree)\n",
    "\n",
    "    # Calculate degrees of all nodes\n",
    "    degrees = dict(graph.degree())\n",
    "    \n",
    "    # Calculate the 95th percentile of the degree distribution\n",
    "    percentile_95 = np.percentile(list(degrees.values()), 95)\n",
    "    \n",
    "    # Identify nodes that are hubs (nodes with degrees higher than the 95th percentile)\n",
    "    hubs = [node for node, degree in degrees.items() if degree > percentile_95]\n",
    "    \n",
    "    print(\"Graph hubs (nodes with degrees higher than the 95th percentile):\")\n",
    "    print(hubs)\n",
    "\n",
    "    # If the density of the graph is close to 1, it's considered dense.\n",
    "    # If the density is closer to 0, it's considered sparse.\n",
    "    \n",
    "    # Set a threshold for determining if the graph is dense or sparse\n",
    "    threshold = 0.0005  # we assigned 0.0005 to the threshold, to divide citation and collabration graphs into 2 groups of sparse and dense.\n",
    "    is_dense = False\n",
    "    \n",
    "    if density >= threshold:\n",
    "        print(\"The graph is dense.\")\n",
    "        is_dense = True\n",
    "    else:\n",
    "        print(\"The graph is sparse.\")\n",
    "        is_dense = False\n",
    "    print(\"----------------------------------------------------\")\n",
    "\n",
    "    # return number_of_nodes, number_of_edges, degree_distribution, avg_degree, hubs, is_dense"
   ]
  },
  {
   "cell_type": "code",
   "execution_count": 100,
   "metadata": {},
   "outputs": [
    {
     "name": "stdout",
     "output_type": "stream",
     "text": [
      "citation graph :\n",
      "Number of Nodes: 10000\n",
      "Number of Edges: 0\n",
      "Density:  0\n",
      "Graph degree distribution:  [10000]\n",
      "Average degree of the graph: 0.0\n",
      "Graph hubs (nodes with degrees higher than the 95th percentile):\n",
      "[]\n",
      "The graph is sparse.\n",
      "----------------------------------------------------\n",
      "collaboration graph :\n",
      "Number of Nodes: 21232\n",
      "Number of Edges: 136463\n",
      "Density:  0.0006054573481490804\n",
      "Graph degree distribution:  [1030, 3231, 3493, 2714, 1860, 1313, 995, 695, 652, 492, 373, 437, 343, 272, 145, 206, 160, 168, 143, 119, 86, 105, 97, 36, 48, 86, 29, 64, 61, 98, 40, 59, 44, 11, 127, 16, 24, 33, 9, 47, 12, 56, 38, 21, 9, 5, 65, 53, 7, 14, 15, 3, 9, 4, 35, 19, 3, 2, 5, 5, 22, 4, 0, 7, 6, 1, 2, 60, 2, 2, 1, 0, 4, 1, 4, 73, 4, 1, 2, 1, 2, 0, 0, 2, 2, 0, 1, 2, 0, 1, 1, 7, 1, 0, 85, 0, 3, 1, 2, 3, 0, 0, 0, 2, 0, 3, 0, 0, 1, 1, 2, 87, 2, 4, 7, 1, 2, 2, 1, 1, 1, 1, 1, 0, 0, 0, 0, 4, 1, 1, 0, 1, 0, 40, 0, 3, 1, 1, 1, 0, 41, 0, 1, 0, 0, 0, 0, 0, 1, 0, 0, 0, 0, 1, 0, 0, 1, 1, 0, 2, 1, 1, 0, 1, 0, 0, 1, 2, 1, 0, 0, 0, 0, 0, 1, 0, 0, 0, 0, 0, 0, 0, 2, 5, 1, 0, 0, 0, 0, 49, 0, 0, 3, 3, 0, 1, 0, 0, 0, 0, 2, 0, 0, 2, 0, 2, 0, 1, 0, 0, 0, 0, 0, 0, 1, 1, 0, 1, 0, 2, 0, 0, 0, 1, 2, 0, 0, 0, 0, 0, 0, 0, 0, 0, 0, 0, 0, 0, 0, 1, 0, 0, 0, 0, 0, 1, 0, 0, 0, 0, 0, 0, 0, 0, 1, 1, 0, 0, 1, 0, 244, 0, 2, 1, 0, 1, 2, 3, 1, 0, 1, 1, 2, 1, 0, 0, 1, 0, 1, 1, 0, 0, 1, 0, 2, 0, 0, 0, 0, 0, 0, 0, 0, 0, 0, 0, 1, 0, 0, 0, 0, 0, 0, 0, 1, 0, 0, 0, 0, 0, 0, 0, 0, 0, 0, 0, 0, 0, 0, 0, 0, 0, 0, 0, 0, 0, 1, 0, 0, 0, 0, 0, 0, 0, 0, 0, 0, 0, 0, 0, 0, 0, 0, 0, 0, 0, 0, 1]\n",
      "Average degree of the graph: 12.854464958553127\n",
      "Graph hubs (nodes with degrees higher than the 95th percentile):\n",
      "['1445484688', '2104401652', '2435751034', '2007415138', '2096217197', '2146468246', '215131072', '2429370538', '2575315241', '161269817', '1822555116', '2328522601', '1993363060', '2304583711', '2079517616', '2230831812', '2147318212', '2120643991', '2141862317', '1998464616', '2098984663', '2102002796', '2308824398', '2022840042', '2668737056', '15795219', '2126370775', '338444495', '2053101140', '719828399', '2296249340', '1111049960', '2462121670', '2509101809', '2127250160', '2151338116', '2160198784', '2169057019', '2020844714', '295353625', '348251026', '2397241174', '2068107358', '1978529654', '2303652421', '2066408259', '332422508', '2020717950', '2133227394', '2114243873', '1993724977', '2099620214', '2466945765', '2115999401', '2086987877', '2137837491', '2111642879', '2112866862', '76210181', '2046931170', '2309147086', '2229209549', '2234077178', '2162106674', '2922418434', '2014082263', '2004792601', '2079584417', '2568636091', '2330302558', '2089062156', '2634174050', '1877008227', '370127644', '278754694', '2195817632', '2124824206', '134561875', '256273151', '152899538', '1772069374', '2042923958', '2596694824', '2951388394', '2104152975', '2011363484', '309212092', '2153626737', '2141457970', '1975485025', '2146966684', '2161419177', '2163125745', '2131939666', '2169051802', '2520849779', '2062669629', '2156405951', '2155095294', '2303446909', '2609501886', '2041760894', '2920985617', '290938066', '2128859803', '266597493', '2141976861', '269172391', '2113791625', '2193557706', '2138839339', '2156753249', '2155122220', '2092996432', '2013681356', '2107788903', '2105857818', '2941356598', '2057424521', '2116804699', '2019670929', '1409416296', '2189829644', '2223018965', '2135058053', '2899910134', '2286323091', '2542475584', '2734508279', '2168903489', '2304834454', '2087661646', '2110565542', '2162393953', '1979486594', '230892618', '1998281089', '2000766772', '2196336386', '2570019029', '2254135696', '2596971887', '2982272927', '2109049942', '2103022394', '2431547723', '2695648673', '2568227796', '2231850505', '2345926886', '2634701588', '2150334601', '2051598476', '2439254809', '2524896517', '2069804847', '2192186815', '696648706', '2141025565', '2032363958', '2112273650', '2569834469', '2068172203', '2116996332', '2570555291', '2021386961', '2112561039', '1999902674', '2145407583', '2117265770', '2004285672', '2160944005', '329420071', '2507389767', '257558059', '2610569546', '2685985294', '2161180910', '294664603', '1987581484', '2072037477', '2160061473', '2138913119', '2233235261', '2174493122', '2182584366', '1967615850', '2309553220', '2075956027', '2485834696', '2166875953', '248099055', '2145043081', '2278406786', '282456728', '2044781512', '2157830974', '2071241485', '2074133383', '2127458366', '242299713', '1920836436', '2102937343', '27377996', '2109762330', '2633068637', '2628952230', '2615611825', '2795406858', '2691280495', '2573767538', '2568106571', '2630251304', '2056965348', '2580016008', '2614831687', '2701756951', '2294372490', '2604432254', '2726849068', '2727445603', '2729742500', '2727261215', '2522377495', '2918637964', '2337494876', '2684521733', '2858490788', '2196278086', '2467659763', '2398473826', '2065847026', '2307249420', '1966617141', '2093771845', '2729090470', '2732888039', '2670452154', '2644611562', '2067369149', '2798518238', '2640326722', '2729564642', '2724401591', '2696031588', '2730727040', '2126484808', '2739930770', '2559590819', '236534080', '2277020102', '1974812904', '1970781481', '289519692', '2682223007', '1957634322', '2512281859', '2535881194', '2037259790', '2727644320', '193244353', '1957213110', '2822663984', '2730594728', '2728279769', '2095686064', '1997333474', '2612023359', '2314150765', '118346912', '2018190831', '1982239957', '120337000', '2729764985', '2089150022', '1924610151', '2004118683', '2087438278', '1977325894', '2114958502', '2733057085', '2334771674', '722607033', '2747069496', '2612632366', '2763109271', '319094435', '2940312688', '2739551228', '1250389426', '1980472878', '2314925348', '1499718944', '2028738094', '1972682459', '173839695', '2696507784', '2604100847', '2748559271', '2297249684', '2284718371', '2327390093', '2725223754', '308694331', '2082700985', '2124301615', '2113553621', '2307014707', '2076201255', '2022733734', '91976466', '404295746', '2938242275', '2936765526', '2836540138', '2727795223', '2937671023', '2020781963', '1930707309', '2486841910', '2098987889', '2113575783', '1976201549', '1780159596', '2010851661', '1983354212', '2165068087', '1980416191', '2119870208', '102275141', '2444423396', '73721942', '1524700667', '46769561', '475755', '2118994065', '2107894144', '2105842450', '2118698041', '2952042817', '74052364', '2066071652', '2162292392', '2162961539', '2952329478', '2200567501', '2019637813', '2130160582', '2763633004', '128404572', '2056719529', '2143709933', '1998537268', '2764297223', '2152816627', '2023191682', '2181674245', '2762158069', '2942445332', '2125360404', '725730344', '1959474115', '1974888798', '2134724722', '2142108848', '694919984', '2007282500', '2011731670', '2124426734', '2151641589', '2014505492', '783371218', '2049838', '1997145465', '2616840042', '2937245254', '1941215654', '2159063947', '2657975600', '2731371828', '2051219078', '2725427413', '1971732302', '2636481385', '2938530182', '2692381839', '248746142', '2045120540', '1976577749', '2054045167', '2158371085', '2612619264', '2735877553', '1939496570', '2036062915', '841962150', '284908851', '2034164144', '1984280187', '1976452423', '2469223817', '2120283110', '2144436371', '2077409132', '1973035492', '2033734346', '2228531763', '2412321058', '2095903901', '2126808537', '2122307034', '2116993377', '413797660', '2104490322', '2065304259', '2311054853', '2151554911', '2158050569', '2206648537', '1271764631', '2395020792', '2509228929', '1984504140', '1908388427', '2172550985', '2256538809', '1975143245', '1810852608', '2409466817', '46466112', '2331516065', '269266212', '2132633766', '1998794321', '2325039351', '1582603586', '2329776818', '2989545202', '1963757467', '2429722641', '2162075402', '2510113954', '2324900004', '1966310512', '2160817217', '1975158788', '2726647677', '2328104537', '2089600412', '2921831182', '2101047156', '2297191951', '1973227959', '2315662538', '1975186878', '2949590097', '2070305097', '2335763193', '2111154689', '2307368259', '1877866882', '2307242731', '2318554617', '2054177139', '2421473300', '2227006312', '2085829377', '2307500684', '1964015497', '2030396006', '2253130503', '2155512249', '2227001754', '2132207553', '2100815004', '2240988444', '2118905841', '2016733444', '2303723751', '2559737208', '2161288054', '2016350619', '2111146232', '60099751', '1962951839', '1130889806', '2439564882', '1992545003', '2893638541', '2916462975', '575195435', '2146213778', '1971597255', '2111697827', '2626482033', '203404148', '2128406011', '2919120869', '2069507712', '2017287999', '2309978028', '1218579514', '2193977647', '2050792062', '2088169039', '2734793488', '2651026597', '2600381860', '2298018363', '2600698446', '2147711561', '2171608169', '2573427152', '1969296054', '2610365461', '2060568960', '1435048479', '1083322503', '2016157908', '2080982368', '2666655905', '2285373521', '284900582', '2019367749', '2072877244', '2501096546', '2308904679', '1936265995', '2009710689', '407941172', '2220275507', '636748954', '2538104506', '2056159655', '279330086', '2063319851', '2004854202', '2019020129', '2132577478', '2038012625', '1877528648', '2158755928', '2272323305', '295547405', '2064779820', '2694959347', '2512246175', '2154366316', '11746710', '2005388385', '2830279773', '2310937171', '2433986865', '1990507434', '1996240602', '2058637566', '2131762216', '2097106490', '2227080822', '2101793687', '1732145198', '2123331751', '2621727630', '2483607673', '2096812092', '2030753995', '2005218853', '2305477279', '2004968887', '1968575284', '2020262997', '2091226120', '2790397008', '2133248863', '2064469325', '2127004265', '2109976661', '125273320', '2298673861', '2160919070', '2710336054', '2031802463', '2666666480', '793105991', '1964757525', '1462141898', '2217581313', '2096332909', '2793863010', '2080748404', '2012064104', '2124971508', '1170988080', '2030275310', '2044707958', '292955176', '2257274196', '2168802052', '2471063475', '2098947040', '1958465785', '2643285594', '2224042250', '233627022', '2011673284', '1211814763', '2166877398', '2002489747', '2096879136', '2054117942', '2421306802', '1971941735', '873588142', '1165226023', '2857994802', '2225624451', '2337636536', '1566488673', '2093031214', '2044510378', '2617556213', '2603485786', '2203063508', '2670774312', '2014105316', '1980268081', '1964446276', '1904297198', '2166639922', '2305186058', '2061229112', '1936322051', '2604001910', '2587321917', '2675132469', '2114532620', '1980002646', '2038805039', '2016770366', '1973239717', '2674751208', '2493615232', '2708554727', '2473192645', '2656630998', '1946673027', '2052419136', '2121415940', '1924600972', '2036498445', '2044721022', '2438819946', '2107864583', '2135811487', '2017019462', '2074961119', '2623413052', '2558197144', '1454618135', '2467544520', '2041257514', '2101845454', '2721930286', '284533960', '311264528', '2659458732', '2053747926', '2634666561', '2893080448', '2131200026', '2526712883', '2125244802', '2947240839', '1226035095', '2050614269', '2073630796', '2051890214', '2181473524', '2639960474', '1939782874', '2140197525', '2158321530', '2569081058', '2341030250', '2477345877', '2658304312', '2055880755', '2092462184', '2113934417', '2649836477', '2000673914', '2188984360', '2306871671', '87767667', '2334690728', '2096028620', '2147271390', '1896586787', '2144642933', '2143872211', '2058493125', '2113882754', '2025701885', '2442041561', '2141044705', '2309516306', '2040734874', '2423751700', '2607817686', '2188577089', '2029213571', '2678661723', '2224909979', '1985054335', '2309073679', '2502209291', '2657247104', '2038928635', '2099687107', '2302842832', '2573871440', '1948868916', '652403233', '2156078050', '2602776931', '2099280865', '2221383550', '2172110579', '1257286133', '2762636134', '2039442281', '2039963921', '1987619973', '101509324', '2132702298', '2768729923', '1302275850', '2635494853', '2232919756', '2222582677', '2290575404', '2306989981', '2142228408', '1253744446', '2706238978', '2125517609', '2080425432', '2073062517', '2342906983', '2923580267', '2000216820', '2242406809', '102758357', '2118451426', '1970848241', '2166126287', '2037580808', '1865420375', '289127100', '2136636181', '636232323', '92905', '2480572093', '2634071983', '176115050', '2116090630', '2548702302', '2289144858', '2169918884', '2115019580', '2690289067', '2105020115', '2435754852', '1787511002', '2966603534', '2412813453', '2250743879', '687818910', '1934629602', '2620544411', '2170179342', '1987293938', '2595875913', '1998877', '2647224255', '2607676807', '2601487908', '1750395602', '2055636106', '2954160865', '2420674471', '2495101138', '1980353920', '2101090258', '2139744957', '2303657406', '662855036', '2135636294', '2635863042', '2170255565', '2224545695', '2054282363', '2937465296', '2129875008', '2761629579', '2763920548', '2762787994', '2761292997', '136850560', '343899017', '2219823832', '298812021', '2422546145', '2335651288', '2513104511', '2570568648', '2298930974', '2696629632', '1973263502', '1996854119', '2762287305', '1969031609', '2142243387', '2763965826', '243300917', '2762634913', '1941184757', '2348930736', '2513286714', '2179286311', '2762238035', '2761021700', '1950878799', '1784075455', '2471266901', '2497966537', '2761281564', '2761795060', '2148548682', '2474195657', '2763309961', '2250018335', '2762640873', '2777364465', '2763402448', '2462356966', '2584500735', '2045302632', '2761809959', '2762706350', '2763879140', '2750617804', '1984887102', '1976226184', '2017072634', '2761054804', '2168619732', '2255537962', '2001631461', '2763029481', '2024897293', '2338406099', '2762949011', '2099159571', '2761382682', '2643493202', '1997708573', '2763992573', '2221625686', '1973664376', '2337603880', '2760910297', '2761898372', '2760850372', '2763331244', '2764060429', '2762362712', '2103885642', '2497252181', '2643778622', '2108107062', '2763353145', '2762665778', '2127602766', '2116565841', '2601734797', '2145970006', '2169261555', '2074330462', '1800768488', '318498686', '2585279417', '2187421466', '2130682961', '528788526', '2155763440', '2157551478', '2115145142', '2949280659', '2612211867', '1978338938', '2690804747', '2613055145', '2259482370', '2661117137', '2772842021', '2771427184', '2627980919', '2771567676', '2697802447', '2771718796', '2774586502', '1578708111', '2773690978', '2771422024', '2774056851', '431953660', '2599695043', '2612114881', '2028160112', '2772924566', '141350083', '2774408805', '2775507665', '2265789864', '1584023022', '2771841946', '2122357485', '2775034729', '2771550967', '2771595124', '2004618041', '2143781074', '2774912598', '2612355299', '104168563', '1983271641', '284872725', '2108238740', '1233719950', '2029728625', '2794115984', '2329212395', '2607019965', '2600383731', '2718476072', '2606016759', '2606874021', '2606572492', '2606200086', '2702710080', '2895038411', '2605654851', '2626130707', '2605796463', '2605987460', '2606515600', '2605550313', '2728759069', '2125988291', '2682050853', '2605400395', '2635411945', '2948129283', '2605409863', '2564637752', '2653001703', '2605690127', '2605788962', '2738165867', '2735991384', '2734745916', '2626627521', '2736069521', '2297217243', '2764986967', '2734489838', '2561749897', '2734577406', '2735456473', '2735234499', '2735280446', '2734757900', '2734326025', '2735559755', '2745849704', '2737917234', '2735567678', '2736238406', '2010970115', '2735213229', '2736173331', '2735063894', '2562131157', '2735929718', '2735018223', '2581188111', '2734967460', '2617556799', '2734420502', '2736278843', '2736065603', '2735837224', '2735733225', '2558171474', '2735001011', '2735755426', '2735684164', '2734507409', '2735498832', '2734432318', '2157729263']\n",
      "The graph is dense.\n",
      "----------------------------------------------------\n"
     ]
    }
   ],
   "source": [
    "# Test method-1\n",
    "graph_features(citation_graph, \"citation\")\n",
    "graph_features(collaboration_graph, \"collaboration\")"
   ]
  },
  {
   "cell_type": "markdown",
   "metadata": {},
   "source": [
    "## Functionality 2 - Nodes' contribution"
   ]
  },
  {
   "cell_type": "code",
   "execution_count": 111,
   "metadata": {},
   "outputs": [
    {
     "name": "stdout",
     "output_type": "stream",
     "text": [
      "Node: 1990110535, Betweenness Centrality: 0.0\n",
      "Node: 2102544963, Betweenness Centrality: 1.3311616761748218e-08\n",
      "Node: 2168176072, Betweenness Centrality: 0.0005993585028347715\n",
      "Node: 2895256545, Betweenness Centrality: 0.0\n",
      "Node: 2022407533, Betweenness Centrality: 0.0008416555157772473\n",
      "Node: 2134830209, Betweenness Centrality: 0.0\n",
      "Node: 1445484688, Betweenness Centrality: 0.003094638209736223\n",
      "Node: 2596317628, Betweenness Centrality: 0.0\n",
      "Node: 2120996014, Betweenness Centrality: 1.3737588498120606e-05\n",
      "Node: 2150011549, Betweenness Centrality: 0.0014994027632210256\n"
     ]
    }
   ],
   "source": [
    "def betweenness_of_first_10_nodes(graph, node, graph_name):\n",
    "    # Calculate betweenness centrality for all nodes\n",
    "    betweenness_centrality = nx.betweenness_centrality(collaboration_graph)\n",
    "    \n",
    "    # Get the first 10 nodes from the graph\n",
    "    first_10_nodes = list(collaboration_graph.nodes())[:10]\n",
    "    \n",
    "    # Filter the betweenness centrality for the first 10 nodes\n",
    "    betweenness_first_10 = {node: betweenness_centrality[node] for node in first_10_nodes}\n",
    "    \n",
    "    # Print the betweenness centrality for each of the first 10 nodes\n",
    "    for node, centrality in betweenness_first_10.items():\n",
    "        print(f\"Node: {node}, Betweenness Centrality: {centrality}\")\n",
    "\n",
    "betweenness_of_first_10_nodes()"
   ]
  },
  {
   "cell_type": "code",
   "execution_count": 112,
   "metadata": {},
   "outputs": [
    {
     "name": "stdout",
     "output_type": "stream",
     "text": [
      "citation graph :\n",
      "Betweenness Centrality of node 2102544963: 1.3311616761748218e-08\n",
      "PageRank centrality of node 2102544963: 7.090991900019985e-05\n",
      "Closeness Centrality of node 2102544963: 0.00018840374923460976\n",
      "Degree Centrality of node 2102544963: 0.00018840374923460976\n"
     ]
    }
   ],
   "source": [
    "def nodes_contribution(graph, node, graph_name):\n",
    "    print(graph_name, \"graph :\")\n",
    "    \n",
    "    # Calculate Betweenness Centrality for all nodes\n",
    "    betweenness = nx.betweenness_centrality(graph)\n",
    "    \n",
    "    # Get Betweenness Centrality for the specified node\n",
    "    node_betweenness = betweenness.get(node)\n",
    "    \n",
    "    print(f\"Betweenness Centrality of node {node}: {node_betweenness}\")\n",
    "\n",
    "    # Calculate PageRank centrality for all nodes\n",
    "    pagerank = nx.pagerank(graph)\n",
    "    \n",
    "    # Get PageRank centrality for the specified node\n",
    "    node_pagerank = pagerank.get(node)\n",
    "    \n",
    "    print(f\"PageRank centrality of node {node}: {node_pagerank}\")\n",
    "\n",
    "    # Calculate Closeness Centrality for all nodes\n",
    "    closeness = nx.closeness_centrality(graph)\n",
    "    \n",
    "    # Get Closeness Centrality for the specified node\n",
    "    node_closeness = closeness.get(node)\n",
    "    \n",
    "    print(f\"Closeness Centrality of node {node}: {node_closeness}\")\n",
    "\n",
    "    # Calculate Degree Centrality for all nodes\n",
    "    degree_centrality = nx.degree_centrality(graph)\n",
    "    \n",
    "    # Get Degree Centrality for the specified node\n",
    "    node_degree_centrality = degree_centrality.get(node)\n",
    "    \n",
    "    print(f\"Degree Centrality of node {node}: {node_degree_centrality}\")\n",
    "\n",
    "    return node_betweenness, node_pagerank, node_closeness, node_degree_centrality\n",
    "\n",
    "\n",
    "nodes_contribution(collaboration_graph, list(collaboration_graph.nodes())[1], \"citation\")"
   ]
  },
  {
   "cell_type": "markdown",
   "metadata": {},
   "source": [
    "## Functionality 3 - Shortest ordered walk"
   ]
  },
  {
   "cell_type": "code",
   "execution_count": 155,
   "metadata": {},
   "outputs": [],
   "source": [
    "def shortest_ordered_walk(graph, authors_a, a_1, a_n):\n",
    "    # Check if a_1 and a_n are in the graph\n",
    "    if a_1 not in graph.nodes() or a_n not in graph.nodes():\n",
    "        return \"One or more authors are not present in the graph.\"\n",
    "\n",
    "    # Create a list to store the ordered nodes\n",
    "    ordered_nodes = [a_1] + authors_a + [a_n]\n",
    "\n",
    "    # Check if the nodes exist in the graph\n",
    "    for i in range(len(ordered_nodes) - 1):\n",
    "        if not nx.has_path(graph, ordered_nodes[i], ordered_nodes[i + 1]):\n",
    "            return \"There is no such path.\"\n",
    "\n",
    "    # Find the shortest path based on the ordered sequence of nodes\n",
    "    shortest_path = []\n",
    "    for i in range(len(ordered_nodes) - 1):\n",
    "        path = nx.shortest_path(graph, ordered_nodes[i], ordered_nodes[i + 1])\n",
    "        shortest_path.extend(path[:-1])\n",
    "\n",
    "    shortest_path.append(a_n)  # Append the final node a_n\n",
    "\n",
    "    return shortest_path"
   ]
  },
  {
   "cell_type": "code",
   "execution_count": 185,
   "metadata": {},
   "outputs": [],
   "source": [
    "# show all nodes:\n",
    "# collaboration_graph.nodes()\n",
    "\n",
    "# show top 20 nodes:\n",
    "# list(collaboration_graph.nodes())[:20]"
   ]
  },
  {
   "cell_type": "code",
   "execution_count": 186,
   "metadata": {},
   "outputs": [
    {
     "name": "stdout",
     "output_type": "stream",
     "text": [
      "Nodes with more than 5 connected neighbors:\n",
      "{'2146468246': ['1445484688', '1932590790', '2559180283', '2232649233', '2874782720', '2027658599', '2007415138', '2096217197', '2105531243', '2084034853', '2153440608', '2316043942', '1904226804', '2034097795', '2305112828', '2652319199', '332422508', '2020717950', '2133227394', '2114243873', '1993724977', '2099620214', '2466945765', '2115999401', '2086987877', '2137837491', '2111642879', '2112866862', '76210181', '2137587293', '2120643991', '2633068637', '2628952230', '2615611825', '2795406858', '2691280495', '2573767538', '2568106571', '2630251304', '2056965348', '2580016008', '2614831687', '2701756951', '2294372490', '2604432254', '2726849068', '2727445603', '2729742500', '2727261215', '2522377495', '2918637964', '2337494876', '2684521733', '2858490788', '2196278086', '2467659763', '2398473826', '2065847026', '2307249420', '1966617141', '2093771845', '2729090470', '2732888039', '2670452154', '2644611562', '2067369149', '2798518238', '2640326722', '2729564642', '2724401591', '2696031588', '2730727040', '2126484808', '2739930770', '2559590819', '236534080', '2277020102', '1974812904', '1970781481', '289519692', '2682223007', '1957634322', '2512281859', '2535881194', '2037259790', '2727644320', '193244353', '1957213110', '2822663984', '2730594728', '2728279769', '2095686064', '1997333474', '2612023359', '2314150765', '118346912', '2610569546', '2018190831', '1982239957', '120337000', '2729764985', '2089150022', '1924610151', '2004118683', '2087438278', '1977325894', '2114958502', '2733057085', '2334771674', '722607033', '2747069496', '2612632366', '2763109271', '319094435', '2940312688', '2739551228', '1250389426', '1980472878', '2685985294', '2314925348', '1499718944', '2028738094', '1972682459', '2161180910', '173839695', '2696507784', '2604100847', '2748559271', '2297249684', '2284718371', '2327390093', '2725223754', '308694331', '2082700985', '2124301615', '2113553621', '2307014707', '2076201255', '2022733734', '91976466', '404295746', '2938242275', '2936765526', '2836540138', '2727795223', '2937671023', '2486841910', '1930707309', '2098987889', '2113575783', '1976201549', '1780159596', '2195817632', '2010851661', '1983354212', '2165068087', '134561875', '1980416191', '2168129278', '2119870208', '99689256', '128404572', '2309096030', '2056719529', '2143709933', '1997145465', '2616840042', '2937245254', '1941215654', '2159063947', '2657975600', '2731371828', '2051219078', '2725427413', '1971732302', '2636481385', '2938530182', '2692381839', '2469223817', '2068107358', '2120283110', '2144436371', '2077409132', '2141862317', '1973035492', '2033734346', '1976577749', '2228531763', '2412321058', '2710403731', '46769561', '2095903901', '2126808537', '2122307034', '2230831812', '2116993377', '413797660', '2052089896', '2104490322', '2766888773', '2065304259', '2311054853', '2191134163', '2015174362', '2147118031', '2014391113', '1749534702', '2695577098', '1853994796', '2118000173', '2113501141', '2495101138', '2703350156', '2153909480', '2143064078', '2079517616', '2037429576', '2519263187', '2018888058', '1980353920', '2434240017', '1879303378', '2988434518', '2477464431', '1987084403', '2044192105', '2274358968', '2098126655', '314315281', '2618658210', '2719088148', '2160549500', '2303652421', '2145970006', '2169261555', '1993363060', '2074330462', '2303723751', '1800768488', '2304583711', '2147318212', '318498686', '2585279417', '2709434590', '2158050569', '2187421466', '2034346482', '2054327070', '2809591053', '248746142', '2130682961', '2076289696', '27377996', '1387038036', '528788526', '2143497203', '2576418383', '1968302805', '2045120540', '2155763440', '1977596990', '2769211762', '2244868655', '2167145086', '2990541463', '2229209549', '2734567351', '2557779450', '2082021288', '1983271641', '93705420', '2157551478', '2134440373', '230682571', '330011585', '1939496570', '2559864363', '2559936268', '2024927808', '2559737208', '2145043081', '248099055', '2222056259', '2429193772', '1972212482', '2124824206', '2109762330', '2918575945', '2133246881', '2168911510', '242299713', '245468651', '2756726078', '2560665136', '2701271983', '1978550718', '2312073393', '1376497648', '2066408259', '2000253445', '330201640', '1807087666', '2517816422', '2208245595'], '2120643991': ['1445484688', '2007415138', '2096217197', '2146468246', '1993363060', '2304583711', '2079517616', '2230831812', '2147318212', '2566399740', '2619400180', '2159119077', '2563324290', '2761536441', '2807202954', '2097833704', '474265672', '1417685655', '2141862317', '2066408259', '2223485841', '2115001393', '627494599', '1909574390', '2113338902', '2698433910', '2195817632', '2124824206', '2298931247', '134561875', '2955079620', '2137837491', '2112866862', '2086987877', '332422508', '2633068637', '2628952230', '2615611825', '2795406858', '2691280495', '2573767538', '2568106571', '2630251304', '2056965348', '2580016008', '2614831687', '2701756951', '2294372490', '2604432254', '2726849068', '2727445603', '2729742500', '2727261215', '2522377495', '2918637964', '2337494876', '2684521733', '2858490788', '2196278086', '2467659763', '2398473826', '2065847026', '2307249420', '1966617141', '2093771845', '2729090470', '2732888039', '2670452154', '2644611562', '2067369149', '2798518238', '2640326722', '2729564642', '2724401591', '2696031588', '2730727040', '2126484808', '2739930770', '2559590819', '236534080', '2277020102', '1974812904', '1970781481', '76210181', '289519692', '2682223007', '1957634322', '2512281859', '2535881194', '2037259790', '2727644320', '1993724977', '193244353', '1957213110', '2822663984', '2730594728', '2728279769', '2095686064', '1997333474', '2612023359', '2314150765', '118346912', '2610569546', '2018190831', '1982239957', '2466945765', '120337000', '2729764985', '2089150022', '1924610151', '2004118683', '2087438278', '1977325894', '2114958502', '2733057085', '2334771674', '722607033', '2747069496', '2612632366', '2763109271', '319094435', '2940312688', '2739551228', '1250389426', '1980472878', '2685985294', '2314925348', '1499718944', '2028738094', '1972682459', '2161180910', '173839695', '2696507784', '2604100847', '2748559271', '2297249684', '2284718371', '2327390093', '2725223754', '2133227394', '308694331', '2082700985', '2124301615', '2113553621', '2307014707', '2115999401', '2076201255', '2022733734', '2111642879', '91976466', '404295746', '2938242275', '2936765526', '2836540138', '2727795223', '2937671023', '2271337206', '1464605052', '1524700667', '2128182386', '2257670540', '2531396293', '1997145465', '2616840042', '2937245254', '1941215654', '2159063947', '2657975600', '2731371828', '2051219078', '2725427413', '1971732302', '2636481385', '2938530182', '2692381839', '2119870208', '2469223817', '2020717950', '1930707309', '2068107358', '2120283110', '2144436371', '2077409132', '1973035492', '2033734346', '1976577749', '2228531763', '2412321058', '2710403731', '46769561', '2095903901', '2126808537', '1780159596', '1976201549', '2122307034', '2143709933', '2116993377', '2165068087', '413797660', '2052089896', '2104490322', '2766888773', '2065304259', '2109762330', '2420770148', '2486841910', '2303652421', '2145970006', '2169261555', '2113575783', '2074330462', '2303723751', '1800768488', '1983354212', '1980416191', '318498686', '2585279417', '2709434590', '2158050569', '2187421466', '2034346482', '2054327070', '2809591053', '248746142', '2130682961', '2076289696', '27377996', '1387038036', '528788526', '2143497203', '2576418383', '1968302805', '2045120540', '2155763440', '1977596990', '2098987889', '2010851661', '2734567351', '2168129278', '2557779450', '2082021288', '1983271641', '330011585', '1939496570', '2559864363', '2559936268', '2024927808', '2559737208', '2145043081', '248099055', '2222056259', '2429193772', '1972212482', '2918575945', '2133246881', '2311054853', '2168911510', '242299713', '245468651', '2756726078', '2560665136', '2157551478', '2701271983', '1978550718', '2312073393', '1376497648', '2056719529', '2000253445', '128404572', '330201640', '1807087666', '2517816422', '2208245595', '2143620107', '2089409118', '1993195152', '2944118806', '1126070806', '2303819711'], '2126370775': ['1999096256', '2093105096', '2054370959', '2527757736', '2161986715', '2620094821', '1998016130', '338444495', '2111146232', '2016350619', '60099751', '1962951839', '783371218', '1130889806', '1524700667', '2439564882', '1992545003', '2893638541', '2916462975', '575195435', '2146213778', '1971597255', '2111697827', '2626482033', '203404148', '2128406011', '2919120869', '2069507712', '2017287999', '2309978028', '1218579514', '2193977647', '2050792062', '2088169039', '2734793488', '2651026597', '2600381860', '2298018363', '2600698446', '2147711561', '2171608169', '2573427152', '1969296054', '2610365461', '2060568960', '1435048479', '1083322503', '2240988444', '2016157908', '2080982368', '2666655905', '2285373521', '284900582', '2019367749', '2130160582', '2072877244', '2501096546', '2308904679', '1936265995', '2009710689', '407941172', '2220275507', '636748954', '2538104506', '2056159655', '279330086', '2063319851', '2004854202', '2019020129', '2132577478', '2038012625', '1877528648', '2158755928', '2272323305', '295547405', '2158371085', '2064779820', '2694959347', '1978529654', '2512246175', '2154366316', '11746710', '2005388385', '2830279773', '2310937171', '2433986865', '1990507434', '1973035492', '1996240602', '2058637566', '2131762216', '2097106490', '2227080822', '2101793687', '1732145198', '2123331751', '2621727630', '2483607673', '2096812092', '2030753995', '2005218853', '2305477279', '2004968887', '1968575284', '2020262997', '2091226120', '2790397008', '2133248863', '2064469325', '2127004265', '2109976661', '125273320', '2298673861', '2160919070', '2710336054', '2031802463', '2666666480', '793105991', '1964757525', '1462141898', '2217581313', '2096332909', '2793863010', '2080748404', '2012064104', '2124971508', '1170988080', '2030275310', '2044707958', '292955176', '2257274196', '2168802052', '2471063475', '2098947040', '1958465785', '2643285594', '2224042250', '233627022', '2011673284', '1211814763', '2166877398', '2002489747', '2096879136', '2054117942', '2421306802', '1971941735', '873588142', '1165226023', '2857994802', '2225624451', '2337636536', '1566488673', '2093031214', '2044510378', '2617556213', '2603485786', '2203063508', '2670774312', '2014105316', '1980268081', '1964446276', '1904297198', '2166639922', '2305186058', '2061229112', '1936322051', '2604001910', '2587321917', '2675132469', '2114532620', '1980002646', '2038805039', '2016770366', '1973239717', '2674751208', '2493615232', '2708554727', '2473192645', '2656630998', '1946673027', '2052419136', '2121415940', '1924600972', '2036498445', '2044721022', '2438819946', '2107864583', '2135811487', '2017019462', '2074961119', '2623413052', '2558197144', '1454618135', '2467544520', '2041257514', '2101845454', '2721930286', '284533960', '311264528', '2659458732', '2053747926', '2634666561', '2893080448', '2131200026', '2526712883', '2125244802', '2947240839', '1226035095', '2050614269', '2073630796', '2051890214', '2181473524', '2639960474', '1939782874', '2140197525', '2158321530', '2569081058', '2341030250', '2477345877', '2658304312', '2055880755', '2092462184', '2113934417', '2649836477', '2000673914', '2188984360', '2306871671', '87767667', '2334690728', '2096028620', '2147271390', '1896586787', '2144642933', '2143872211', '2058493125', '2113882754', '2025701885', '1984280187', '2442041561', '2141044705', '2309516306', '2040734874', '2423751700', '2607817686', '2188577089', '2029213571', '2678661723', '2224909979', '1985054335', '2309073679', '2502209291', '2657247104', '2038928635', '2099687107', '2302842832', '2573871440', '1948868916', '652403233', '2156078050', '1976452423', '2602776931', '2099280865', '2221383550', '2034164144', '2172110579', '1257286133', '2762636134'], '338444495': ['1999096256', '2126370775', '2093105096', '2054370959', '2527757736', '2161986715', '2620094821', '1998016130', '2111146232', '2016350619', '60099751', '1962951839', '783371218', '1130889806', '1524700667', '2439564882', '1992545003', '2893638541', '2916462975', '575195435', '2146213778', '1971597255', '2111697827', '2626482033', '203404148', '2128406011', '2919120869', '2069507712', '2017287999', '2309978028', '1218579514', '2193977647', '2050792062', '2088169039', '2734793488', '2651026597', '2600381860', '2298018363', '2600698446', '2147711561', '2171608169', '2573427152', '1969296054', '2610365461', '2060568960', '1435048479', '1083322503', '2240988444', '2016157908', '2080982368', '2666655905', '2285373521', '284900582', '2019367749', '2130160582', '2072877244', '2501096546', '2308904679', '1936265995', '2009710689', '407941172', '2220275507', '636748954', '2538104506', '2056159655', '279330086', '2063319851', '2004854202', '2019020129', '2132577478', '2038012625', '1877528648', '2158755928', '2272323305', '295547405', '2158371085', '2064779820', '2694959347', '1978529654', '2512246175', '2154366316', '11746710', '2005388385', '2830279773', '2310937171', '2433986865', '1990507434', '1973035492', '1996240602', '2058637566', '2131762216', '2097106490', '2227080822', '2101793687', '1732145198', '2123331751', '2621727630', '2483607673', '2096812092', '2030753995', '2005218853', '2305477279', '2004968887', '1968575284', '2020262997', '2091226120', '2790397008', '2133248863', '2064469325', '2127004265', '2109976661', '125273320', '2298673861', '2160919070', '2710336054', '2031802463', '2666666480', '793105991', '1964757525', '1462141898', '2217581313', '2096332909', '2793863010', '2080748404', '2012064104', '2124971508', '1170988080', '2030275310', '2044707958', '292955176', '2257274196', '2168802052', '2471063475', '2098947040', '1958465785', '2643285594', '2224042250', '233627022', '2011673284', '1211814763', '2166877398', '2002489747', '2096879136', '2054117942', '2421306802', '1971941735', '873588142', '1165226023', '2857994802', '2225624451', '2337636536', '1566488673', '2093031214', '2044510378', '2617556213', '2603485786', '2203063508', '2670774312', '2014105316', '1980268081', '1964446276', '1904297198', '2166639922', '2305186058', '2061229112', '1936322051', '2604001910', '2587321917', '2675132469', '2114532620', '1980002646', '2038805039', '2016770366', '1973239717', '2674751208', '2493615232', '2708554727', '2473192645', '2656630998', '1946673027', '2052419136', '2121415940', '1924600972', '2036498445', '2044721022', '2438819946', '2107864583', '2135811487', '2017019462', '2074961119', '2623413052', '2558197144', '1454618135', '2467544520', '2041257514', '2101845454', '2721930286', '284533960', '311264528', '2659458732', '2053747926', '2634666561', '2893080448', '2131200026', '2526712883', '2125244802', '2947240839', '1226035095', '2050614269', '2073630796', '2051890214', '2181473524', '2639960474', '1939782874', '2140197525', '2158321530', '2569081058', '2341030250', '2477345877', '2658304312', '2055880755', '2092462184', '2113934417', '2649836477', '2000673914', '2188984360', '2306871671', '87767667', '2334690728', '2096028620', '2147271390', '1896586787', '2144642933', '2143872211', '2058493125', '2113882754', '2025701885', '1984280187', '2442041561', '2141044705', '2309516306', '2040734874', '2423751700', '2607817686', '2188577089', '2029213571', '2678661723', '2224909979', '1985054335', '2309073679', '2502209291', '2657247104', '2038928635', '2099687107', '2302842832', '2573871440', '1948868916', '652403233', '2156078050', '1976452423', '2602776931', '2099280865', '2221383550', '2034164144', '2172110579', '1257286133', '2762636134']}\n"
     ]
    }
   ],
   "source": [
    "# Find all nodes with more than 5 connected nodes as their neighbors:\n",
    "\n",
    "# Dictionary to store nodes with their neighbors\n",
    "nodes_with_neighbors = {}\n",
    "\n",
    "# Iterate through nodes and count their neighbors\n",
    "for node in list(collaboration_graph.nodes())[:1000]:\n",
    "    neighbors = list(collaboration_graph.neighbors(node))\n",
    "    if len(neighbors) > 200:\n",
    "        nodes_with_neighbors[node] = neighbors\n",
    "\n",
    "print(\"Nodes with more than 5 connected neighbors:\")\n",
    "print(nodes_with_neighbors)"
   ]
  },
  {
   "cell_type": "code",
   "execution_count": 164,
   "metadata": {},
   "outputs": [
    {
     "name": "stdout",
     "output_type": "stream",
     "text": [
      "Nodes connected to node 2168176072:\n",
      "['2895256545', '2035876866', '2137603918', '2148022289', '2497095473', '2591257837', '2116155808', '2396073053', '2163103719', '2702409756', '2974071427', '2127632057']\n"
     ]
    }
   ],
   "source": [
    "# Choose a single node to find its connected nodes\n",
    "\n",
    "selected_node = '2168176072'  # Replace this with the node you're interested in\n",
    "\n",
    "# Get nodes connected to the selected node\n",
    "connected_nodes = list(collaboration_graph.neighbors(selected_node))\n",
    "\n",
    "print(f\"Nodes connected to node {selected_node}:\")\n",
    "print(connected_nodes)"
   ]
  },
  {
   "cell_type": "code",
   "execution_count": 171,
   "metadata": {},
   "outputs": [
    {
     "name": "stdout",
     "output_type": "stream",
     "text": [
      "Shortest ordered walk: There is no such path.\n"
     ]
    }
   ],
   "source": [
    "# Usage for NOT connected nodes in graph:\n",
    "authors_sequence = ['2102544963', '2168176072', '2895256545']\n",
    "start_author = '1990110535'\n",
    "end_author = '2022407533'\n",
    "\n",
    "result = shortest_ordered_walk(collaboration_graph, authors_sequence, start_author, end_author)\n",
    "print(\"Shortest ordered walk:\", result)"
   ]
  },
  {
   "cell_type": "code",
   "execution_count": 174,
   "metadata": {},
   "outputs": [
    {
     "name": "stdout",
     "output_type": "stream",
     "text": [
      "Shortest ordered walk:\n",
      " ['2168176072', '2895256545', '2168176072', '2035876866', '2137603918', '2148022289', '2497095473', '2168176072', '2591257837', '2168176072', '2116155808', '2396073053', '2168176072', '2163103719', '2168176072', '2702409756', '2168176072', '2974071427', '2168176072', '2127632057']\n"
     ]
    }
   ],
   "source": [
    "# Usage for connected nodes in graph:\n",
    "authors_sequence = ['2895256545', '2035876866', '2137603918', '2148022289', '2497095473', '2591257837', '2116155808', '2396073053', '2163103719', '2702409756', '2974071427']  # Replace with your sequence of authors\n",
    "start_author = '2168176072'\n",
    "end_author = '2127632057'\n",
    "\n",
    "result = shortest_ordered_walk(collaboration_graph, authors_sequence, start_author, end_author)\n",
    "print(\"Shortest ordered walk:\\n\", result)"
   ]
  },
  {
   "cell_type": "markdown",
   "metadata": {},
   "source": [
    "**Compare to Dijkstra:**\n",
    "\n",
    "I asked chatGPT for a different one leveraging another approach in solving the shortest path. It suggested dijkstra algorithm. the results prove that the preevious method is correct."
   ]
  },
  {
   "cell_type": "code",
   "execution_count": 176,
   "metadata": {},
   "outputs": [
    {
     "name": "stdout",
     "output_type": "stream",
     "text": [
      "Shortest path using Dijkstra's algorithm with sequence:\n",
      " ['2168176072', '2895256545', '2168176072', '2035876866', '2137603918', '2148022289', '2497095473', '2168176072', '2591257837', '2168176072', '2116155808', '2396073053', '2168176072', '2163103719', '2168176072', '2702409756', '2168176072', '2974071427', '2168176072', '2127632057']\n"
     ]
    }
   ],
   "source": [
    "def shortest_path_dijkstra(graph, authors_sequence, start_author, end_author):\n",
    "    try:\n",
    "        shortest_path = [start_author]\n",
    "        for author in authors_sequence:\n",
    "            if author not in shortest_path:\n",
    "                path = nx.shortest_path(graph, source=shortest_path[-1], target=author, method='dijkstra')\n",
    "                shortest_path.extend(path[1:])\n",
    "        \n",
    "        end_path = nx.shortest_path(graph, source=shortest_path[-1], target=end_author, method='dijkstra')\n",
    "        shortest_path.extend(end_path[1:])\n",
    "        \n",
    "        return shortest_path\n",
    "    except nx.NetworkXNoPath:\n",
    "        return \"There is no such path.\"\n",
    "\n",
    "authors_sequence = ['2895256545', '2035876866', '2137603918', '2148022289', '2497095473', '2591257837', '2116155808', '2396073053', '2163103719', '2702409756', '2974071427']\n",
    "start_author = '2168176072'\n",
    "end_author = '2127632057'\n",
    "\n",
    "result_dijkstra_sequence = shortest_path_dijkstra(collaboration_graph, authors_sequence, start_author, end_author)\n",
    "print(\"Shortest path using Dijkstra's algorithm with sequence:\\n\", result_dijkstra_sequence)\n"
   ]
  },
  {
   "cell_type": "markdown",
   "metadata": {},
   "source": [
    "## Functionality 4 - Disconnecting Graphs"
   ]
  },
  {
   "cell_type": "code",
   "execution_count": 180,
   "metadata": {},
   "outputs": [],
   "source": [
    "def min_edges_to_disconnect(graph, authorA, authorB):\n",
    "    # Check if authorA and authorB are in the graph\n",
    "    if authorA not in graph.nodes() or authorB not in graph.nodes():\n",
    "        return \"One or more authors are not present in the graph.\"\n",
    "\n",
    "    # Compute the edge connectivity between authorA and authorB\n",
    "    try:\n",
    "        edge_connectivity = nx.edge_connectivity(graph, authorA, authorB)\n",
    "        return edge_connectivity\n",
    "    except nx.NetworkXError as e:\n",
    "        return f\"Error: {e}\""
   ]
  },
  {
   "cell_type": "code",
   "execution_count": 189,
   "metadata": {},
   "outputs": [
    {
     "name": "stdout",
     "output_type": "stream",
     "text": [
      "Minimum number of edges to disconnect: 4\n"
     ]
    }
   ],
   "source": [
    "# Example usage:\n",
    "authorA = '2168176072'\n",
    "authorB = '2974071427'\n",
    "\n",
    "result = min_edges_to_disconnect(collaboration_graph, authorA, authorB)\n",
    "print(\"Minimum number of edges to disconnect:\", result)"
   ]
  },
  {
   "cell_type": "code",
   "execution_count": 187,
   "metadata": {},
   "outputs": [
    {
     "name": "stdout",
     "output_type": "stream",
     "text": [
      "Minimum number of edges to disconnect: 189\n"
     ]
    }
   ],
   "source": [
    "# Example usage:\n",
    "authorA = '2146468246'\n",
    "authorB = '1957213110'\n",
    "\n",
    "result = min_edges_to_disconnect(collaboration_graph, authorA, authorB)\n",
    "print(\"Minimum number of edges to disconnect:\", result)"
   ]
  },
  {
   "cell_type": "markdown",
   "metadata": {},
   "source": [
    "## Functionality 5 - Extracting Communities"
   ]
  },
  {
   "cell_type": "code",
   "execution_count": 194,
   "metadata": {},
   "outputs": [],
   "source": [
    "def extract_communities(graph, paper_1, paper_2):\n",
    "    # Detect communities using Louvain method\n",
    "    communities = list(nx.algorithms.community.greedy_modularity_communities(graph))\n",
    "\n",
    "    # Find the minimum number of edges to remove for communities\n",
    "    num_edges_to_remove = nx.algorithms.community.quality.modularity(graph, communities)\n",
    "\n",
    "    # Check if Paper_1 and Paper_2 belong to the same community\n",
    "    same_community = any([paper_1 in community and paper_2 in community for community in communities])\n",
    "\n",
    "    return num_edges_to_remove, communities, same_community"
   ]
  },
  {
   "cell_type": "code",
   "execution_count": 203,
   "metadata": {},
   "outputs": [
    {
     "name": "stdout",
     "output_type": "stream",
     "text": [
      "Minimum number of edges to remove: 0.8733770355653223\n",
      "Paper_1 and Paper_2 belong to the same community: True\n"
     ]
    }
   ],
   "source": [
    "Paper_1 = '2168176072'\n",
    "Paper_2 = '2127632057'\n",
    "\n",
    "# result_edges, result_communities, papers_same_community = extract_communities(collaboration_graph, Paper_1, Paper_2)\n",
    "print(\"Minimum number of edges to remove:\", result_edges)\n",
    "\n",
    "# print(\"Communities:\", result_communities)\n",
    "\n",
    "print(f\"Paper_1 and Paper_2 belong to the same community: {papers_same_community}\")"
   ]
  },
  {
   "cell_type": "code",
   "execution_count": null,
   "metadata": {},
   "outputs": [],
   "source": []
  }
 ],
 "metadata": {
  "kernelspec": {
   "display_name": "Python 3 (ipykernel)",
   "language": "python",
   "name": "python3"
  },
  "language_info": {
   "codemirror_mode": {
    "name": "ipython",
    "version": 3
   },
   "file_extension": ".py",
   "mimetype": "text/x-python",
   "name": "python",
   "nbconvert_exporter": "python",
   "pygments_lexer": "ipython3",
   "version": "3.12.0"
  }
 },
 "nbformat": 4,
 "nbformat_minor": 4
}
